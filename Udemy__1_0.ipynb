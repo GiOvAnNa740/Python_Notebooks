{
  "cells": [
    {
      "cell_type": "markdown",
      "metadata": {
        "id": "fKp4U0fdMMkG"
      },
      "source": [
        "**Complete Python Bootcamp - #0.1 - Introduction**\n",
        "---"
      ]
    },
    {
      "cell_type": "markdown",
      "metadata": {
        "id": "mmsDOkfFSu7_"
      },
      "source": [
        "Course Resources:\n",
        "\n",
        "*   https://github.com/Pierian-Data/Complete-Python-3-Bootcamp\n",
        "\n",
        "GitHub guides:\n",
        "\n",
        "*   https://docs.github.com/en/get-started/quickstart/hello-world\n",
        "*   https://docs.github.com/en/get-started/quickstart/git-and-github-learning-resources\n",
        "*   https://docs.github.com/en/get-started/quickstart/set-up-git\n",
        "\n",
        "\n",
        "\n"
      ]
    },
    {
      "cell_type": "markdown",
      "metadata": {
        "id": "sKCY9mkaMgn3"
      },
      "source": [
        "  Plugins for Python:\n",
        "\n",
        "*   Atom\n",
        "*   Sublime Text\n",
        "\n",
        "Popular Python IDEs\n",
        "\n",
        "*   PyCharm\n",
        "*   Spyder\n",
        "\n",
        "---\n",
        "\n"
      ]
    },
    {
      "cell_type": "markdown",
      "metadata": {
        "id": "_-F5yCtUPpmc"
      },
      "source": [
        "*   .py -> Simple python script\n",
        "\n",
        "\n",
        "*You may run it on the cmd with 'python example.py'*\n",
        "\n",
        "\n",
        "*   .ipynb -> Python notebook\n",
        "\n",
        "*You may run notebook cells with 'Shift+Enter'*"
      ]
    },
    {
      "cell_type": "code",
      "execution_count": null,
      "metadata": {
        "colab": {
          "base_uri": "https://localhost:8080/"
        },
        "id": "ATiTbf9HF3ee",
        "outputId": "415f1e9c-a47f-46b8-d07b-d03f3c6052b1"
      },
      "outputs": [
        {
          "name": "stdout",
          "output_type": "stream",
          "text": [
            "Hello \n",
            "World\n",
            "I can't do that\n"
          ]
        }
      ],
      "source": [
        "print('Hello \\nWorld')  \n",
        "print(\"I can't do that\") # We may use different quotes when we want to keep it on the string and do not indicate the end of it"
      ]
    },
    {
      "cell_type": "markdown",
      "metadata": {
        "id": "KKIJb5HzX-69"
      },
      "source": [
        " #0.2 - Data Types and Objects\n",
        "---"
      ]
    },
    {
      "cell_type": "markdown",
      "metadata": {
        "id": "5vpxvr0lYcJz"
      },
      "source": [
        "Data Types\n",
        "\n",
        "*   int - Integers\n",
        "*   float - Decimals\n",
        "*   str - strings (with double ou singles quotes)\n",
        "*   list - **Ordered** sequence of **objects**\n",
        "*   dict - **Unordered** Key:Value pairs\n",
        "*   tup - **Ordered** **immutable** sequence of **objects**\n",
        "*   set - **Unordered** collection of **unique** objects\n",
        "*   bool - Logical values **True** or **False**\n",
        "*   None - None Type can be use as **placeholder** to avoid errors, and then by replaced by the value you want\n",
        "\n"
      ]
    },
    {
      "cell_type": "markdown",
      "metadata": {
        "id": "3V0QUrE3bLY2"
      },
      "source": [
        "Math Operators\n",
        "\n",
        "*follow the mathematical basic order of operations*"
      ]
    },
    {
      "cell_type": "markdown",
      "metadata": {
        "id": "sXGZeXxUcEnP"
      },
      "source": [
        "Simple arithmetic"
      ]
    },
    {
      "cell_type": "code",
      "execution_count": null,
      "metadata": {
        "id": "pxnV3QFHbtHp"
      },
      "outputs": [],
      "source": [
        "1+2\n",
        "\n",
        "2-1\n",
        "\n",
        "2*2\n",
        "\n",
        "3/2"
      ]
    },
    {
      "cell_type": "markdown",
      "metadata": {
        "id": "sak5zmHDcImq"
      },
      "source": [
        "Other operators"
      ]
    },
    {
      "cell_type": "code",
      "execution_count": null,
      "metadata": {
        "id": "d_bsnyKWb6sk"
      },
      "outputs": [],
      "source": [
        "7%4 #Module 'Mod'\n",
        "\n",
        "2**3 #Power"
      ]
    },
    {
      "cell_type": "markdown",
      "metadata": {
        "id": "X0vimywgfHFE"
      },
      "source": [
        "Variable name rules:\n",
        "\n",
        "*   No spaces (use underscore_)\n",
        "*   No spacial symbols\n",
        "*   No numbers at the beginning\n",
        "\n",
        "Best practices:\n",
        "\n",
        "*   Names in lowercase\n",
        "*   Avoid words with special meaning (like 'str')\n",
        "\n",
        "General info:\n",
        "\n",
        "*   Variables are dynamic, you may reassign the same variable name to different data types\n",
        "*   No need to declare variables before assigning them"
      ]
    },
    {
      "cell_type": "code",
      "execution_count": null,
      "metadata": {
        "id": "73FwDxI4hl7o"
      },
      "outputs": [],
      "source": [
        "a = 2\n",
        "a #prints variable current value"
      ]
    },
    {
      "cell_type": "code",
      "execution_count": null,
      "metadata": {
        "colab": {
          "base_uri": "https://localhost:8080/"
        },
        "id": "dI9yx3I7hugL",
        "outputId": "6be26e22-db29-458e-aea5-63291ab9d677"
      },
      "outputs": [
        {
          "data": {
            "text/plain": [
              "int"
            ]
          },
          "execution_count": 9,
          "metadata": {},
          "output_type": "execute_result"
        }
      ],
      "source": [
        "type(a) #returns variable type"
      ]
    },
    {
      "cell_type": "markdown",
      "metadata": {
        "id": "em-E8uF8kjzU"
      },
      "source": [
        "# #0.3 - Strings and indexes\n",
        "\n",
        "\n",
        "*   Strings are reassignable but immutable\n",
        "\n"
      ]
    },
    {
      "cell_type": "code",
      "execution_count": null,
      "metadata": {
        "colab": {
          "base_uri": "https://localhost:8080/"
        },
        "id": "NhvjXvhpjvQl",
        "outputId": "c1664ea2-f163-499d-e440-499c15599869"
      },
      "outputs": [
        {
          "data": {
            "text/plain": [
              "5"
            ]
          },
          "execution_count": 22,
          "metadata": {},
          "output_type": "execute_result"
        }
      ],
      "source": [
        "b = 'hello'\n",
        "\n",
        "len(b) #string character lenght"
      ]
    },
    {
      "cell_type": "code",
      "execution_count": null,
      "metadata": {
        "colab": {
          "base_uri": "https://localhost:8080/",
          "height": 35
        },
        "id": "790An1LXmWTk",
        "outputId": "26d6da6d-69a9-433c-9ba5-89061d900185"
      },
      "outputs": [
        {
          "data": {
            "application/vnd.google.colaboratory.intrinsic+json": {
              "type": "string"
            },
            "text/plain": [
              "'h'"
            ]
          },
          "execution_count": 21,
          "metadata": {},
          "output_type": "execute_result"
        }
      ],
      "source": [
        "b[0] # first index position"
      ]
    },
    {
      "cell_type": "code",
      "execution_count": null,
      "metadata": {
        "colab": {
          "base_uri": "https://localhost:8080/",
          "height": 35
        },
        "id": "T8WZOEe6kL9q",
        "outputId": "028ba3ae-662a-49f4-9b3b-fb5c10e9a447"
      },
      "outputs": [
        {
          "data": {
            "application/vnd.google.colaboratory.intrinsic+json": {
              "type": "string"
            },
            "text/plain": [
              "'o'"
            ]
          },
          "execution_count": 14,
          "metadata": {},
          "output_type": "execute_result"
        }
      ],
      "source": [
        "b[-1] # last index position (useful for when you don't know how long the string is)"
      ]
    },
    {
      "cell_type": "markdown",
      "metadata": {
        "id": "cnPacc35kmzQ"
      },
      "source": [
        "Slicing strings\n",
        "\n",
        "[start:stop:step]\n",
        "\n",
        "*start -> inicial index, is included in the final result*\n",
        "\n",
        "*stop -> final index, is NOT included on the final result, the last character will be one position before*\n",
        "\n",
        "*step -> 'jumps' between the inicial and final indexes* "
      ]
    },
    {
      "cell_type": "code",
      "execution_count": null,
      "metadata": {
        "id": "7mi6aqISkpV_"
      },
      "outputs": [],
      "source": [
        "c = 'this is a test phrase'\n",
        "\n",
        "c[0:-1:2] # slices from beginning to end on each second character\n",
        "\n",
        "c[2:] # slices from position x until the end of the string\n",
        "\n",
        "c[:4] # slices from the beginning un til position x\n",
        "\n",
        "c[::2] # whole string, from beginning to end in jumps of 2\n",
        "\n",
        "c[::-1] # this reverses the string !Useful trick"
      ]
    },
    {
      "cell_type": "code",
      "execution_count": null,
      "metadata": {
        "colab": {
          "base_uri": "https://localhost:8080/",
          "height": 35
        },
        "id": "hTqag2gtiqJl",
        "outputId": "2c5d0772-368b-48bd-927e-96af4925f575"
      },
      "outputs": [
        {
          "data": {
            "application/vnd.google.colaboratory.intrinsic+json": {
              "type": "string"
            },
            "text/plain": [
              "'ink'"
            ]
          },
          "execution_count": 1,
          "metadata": {},
          "output_type": "execute_result"
        }
      ],
      "source": [
        "#It is possible to get the index directly from the String, not using variables\n",
        "\n",
        "\"Hello World\"[8] \n",
        "\n",
        "'tinker'[1:4]"
      ]
    },
    {
      "cell_type": "markdown",
      "metadata": {
        "id": "4e7yY5ZAkzZM"
      },
      "source": [
        "# #0.3.1 - String Functions and methods\n",
        "\n",
        "Methods are identified by parenthesys ()"
      ]
    },
    {
      "cell_type": "code",
      "execution_count": null,
      "metadata": {
        "colab": {
          "base_uri": "https://localhost:8080/",
          "height": 35
        },
        "id": "XVcEkUIikwTx",
        "outputId": "45a3ca15-34c0-44b6-fc5f-90a7635b0320"
      },
      "outputs": [
        {
          "data": {
            "application/vnd.google.colaboratory.intrinsic+json": {
              "type": "string"
            },
            "text/plain": [
              "'hello'"
            ]
          },
          "execution_count": 2,
          "metadata": {},
          "output_type": "execute_result"
        }
      ],
      "source": [
        "x = \"Hello\"\n",
        "\n",
        "x.upper()\n",
        "\n",
        "x.lower()"
      ]
    },
    {
      "cell_type": "markdown",
      "metadata": {
        "id": "K2zZnG1Pl9I0"
      },
      "source": [
        "Splits create lists from Strings"
      ]
    },
    {
      "cell_type": "code",
      "execution_count": null,
      "metadata": {
        "colab": {
          "base_uri": "https://localhost:8080/"
        },
        "id": "bF8zBwIkleE6",
        "outputId": "bfe566a0-6f55-42f2-9080-c7d9b3cd7ba3"
      },
      "outputs": [
        {
          "data": {
            "text/plain": [
              "['Th', 's ', 's an example']"
            ]
          },
          "execution_count": 3,
          "metadata": {},
          "output_type": "execute_result"
        }
      ],
      "source": [
        "x = \"This is an example\"\n",
        "\n",
        "x.split() # splits in all white spaces\n",
        "\n",
        "x.split('i') # splits on the provided character (charater not included)"
      ]
    },
    {
      "cell_type": "markdown",
      "metadata": {
        "id": "qFDKFGCnmHjr"
      },
      "source": [
        "# #0.4 - Print formatting\n",
        "\n",
        "*   **1st -** .format() method\n",
        "*   **2nd -** f-strings (formated string literals)\n",
        "\n",
        "\n",
        "\n",
        "\n"
      ]
    },
    {
      "cell_type": "markdown",
      "metadata": {
        "id": "AWagdNaom4m6"
      },
      "source": [
        ".format() method"
      ]
    },
    {
      "cell_type": "code",
      "execution_count": null,
      "metadata": {
        "colab": {
          "base_uri": "https://localhost:8080/"
        },
        "id": "wmjTJJj0m662",
        "outputId": "970c9b97-df09-4e30-dc5e-58b6b9a9b807"
      },
      "outputs": [
        {
          "name": "stdout",
          "output_type": "stream",
          "text": [
            "This is a String INSERT\n",
            "The fox runs brown\n",
            "The brown fox runs\n",
            "The fox fox fox\n",
            "The brown fox runs\n"
          ]
        }
      ],
      "source": [
        "# 'String {} '.format('ex1', 'ex2')\n",
        "\n",
        "print('This is a String {}'.format('INSERT'))\n",
        "\n",
        "print('The {} {} {}'.format('fox','runs','brown')) # each bracet is a space that will be inserted in the corresponding order\n",
        "\n",
        "print('The {2} {0} {1}'.format('fox','runs','brown')) # decide which word will be used in each index\n",
        "\n",
        "print('The {0} {0} {0}'.format('fox','runs','brown')) # the indexes can be reapeted\n",
        "\n",
        "print('The {b} {f} {r}'.format(f='fox',r='runs',b='brown')) # you may assign key vallues to the indexes (variables)"
      ]
    },
    {
      "cell_type": "markdown",
      "metadata": {
        "id": "CkNHWAA3SQS6"
      },
      "source": [
        "Float formating"
      ]
    },
    {
      "cell_type": "code",
      "execution_count": null,
      "metadata": {
        "colab": {
          "base_uri": "https://localhost:8080/"
        },
        "id": "bYpSuV7lSSby",
        "outputId": "8fb1092c-ac52-4637-a243-a69bf38cf355"
      },
      "outputs": [
        {
          "name": "stdout",
          "output_type": "stream",
          "text": [
            "Result = 0.1287001287001287\n",
            "Result = 0.13\n"
          ]
        }
      ],
      "source": [
        "# {value:width.precision f}\n",
        "# width -> adds white space before the variable\n",
        "# precision -> decimals allowed\n",
        "\n",
        "result = 100/777\n",
        "\n",
        "print('Result = {r}'.format(r=result)) # whole value\n",
        "\n",
        "print('Result = {r:1.2f}'.format(r=result)) # formatted value"
      ]
    },
    {
      "cell_type": "markdown",
      "metadata": {
        "id": "oj-Lv9EPT1ce"
      },
      "source": [
        "f-strings"
      ]
    },
    {
      "cell_type": "code",
      "execution_count": null,
      "metadata": {
        "id": "8BQK9JC2T6BC"
      },
      "outputs": [],
      "source": [
        "name = \"Giovanna\"\n",
        "\n",
        "print = (f'Hello, my name is {name}')"
      ]
    },
    {
      "cell_type": "markdown",
      "metadata": {
        "id": "DUqfo7fPY1yS"
      },
      "source": [
        "# #0.5 - Lists \n",
        "\n",
        "Lists are mutable\n",
        "\n",
        "Different from Strings, you may change the value from the indexes on the List"
      ]
    },
    {
      "cell_type": "code",
      "execution_count": null,
      "metadata": {
        "colab": {
          "base_uri": "https://localhost:8080/"
        },
        "id": "ss2FddN0Y5mQ",
        "outputId": "94824542-161a-49dd-c6b9-84c2c46b1d48"
      },
      "outputs": [
        {
          "data": {
            "text/plain": [
              "[3, 2]"
            ]
          },
          "execution_count": 19,
          "metadata": {},
          "output_type": "execute_result"
        }
      ],
      "source": [
        "my_list = [1,2,3]\n",
        "\n",
        "my_list2 = ['String',2,3]\n",
        "\n",
        "len(my_list) # length of the list\n",
        "\n",
        "my_list[0] # Select element by index\n",
        "\n",
        "my_list[2:0:-1] # works in the same way as String indexes and slicing"
      ]
    },
    {
      "cell_type": "markdown",
      "metadata": {
        "id": "fQ2Ekp4xZ2jH"
      },
      "source": [
        "Operations with Lists"
      ]
    },
    {
      "cell_type": "code",
      "execution_count": null,
      "metadata": {
        "colab": {
          "base_uri": "https://localhost:8080/"
        },
        "id": "t5IbSuGQZ6Vn",
        "outputId": "bdf8ca49-e024-4503-e2e1-da6882cb0a13"
      },
      "outputs": [
        {
          "name": "stdout",
          "output_type": "stream",
          "text": [
            "['ONE', 2, 3, 2, 3]\n"
          ]
        }
      ],
      "source": [
        "new_list = my_list+my_list2 # Concatenate elements\n",
        "\n",
        "new_list[0] = 'ONE' # Changing the value from the index\n",
        "\n",
        "# Append\n",
        "new_list.append('six') # Add item to the end of the list\n",
        "\n",
        "\n",
        "# Pop\n",
        "new_list.pop() # Remove last item from list and returns its value\n",
        "\n",
        "new_list.pop(3) # Remove the index item and returns its value\n",
        "\n",
        "print(new_list)"
      ]
    },
    {
      "cell_type": "code",
      "execution_count": null,
      "metadata": {
        "id": "4aCr-eJ8dMEk"
      },
      "outputs": [],
      "source": [
        "num_list = [4,8,2,6]\n",
        "new_list = ['a','e','x','c']\n",
        "\n",
        "# Sort\n",
        "sorted_list = new_list.sort() # Incorrect, it is not reasigning any value\n",
        "\n",
        "new_list.sort() # Sort in order but does not return anything (NoneType)\n",
        "sorted_list = new_list # Correct, it is reasigning the value\n",
        "\n",
        "\n",
        "# Reverse \n",
        "num_list.reverse()"
      ]
    },
    {
      "cell_type": "markdown",
      "metadata": {
        "id": "-Izw_GFEgO1j"
      },
      "source": [
        "# #0.6 - Dictionaries\n",
        "\n",
        "Dictionaries are mutable\n",
        "\n",
        "Unordered mappings for Storing objects\n",
        "\n",
        "Cannot be sorted\n",
        "\n",
        "Use a key-value to create pairs and grab objects without knowing the location\n",
        "\n",
        "\n"
      ]
    },
    {
      "cell_type": "code",
      "execution_count": null,
      "metadata": {
        "colab": {
          "base_uri": "https://localhost:8080/",
          "height": 35
        },
        "id": "nChfEuP7glm8",
        "outputId": "e97ca97e-fc36-4f6a-90d3-1589360a5399"
      },
      "outputs": [
        {
          "data": {
            "application/vnd.google.colaboratory.intrinsic+json": {
              "type": "string"
            },
            "text/plain": [
              "'NEW VALUE'"
            ]
          },
          "execution_count": 30,
          "metadata": {},
          "output_type": "execute_result"
        }
      ],
      "source": [
        "# {'key1':'value1','key2':'value2'}\n",
        "\n",
        "my_dict = {'key1':12,'key2':'price'}\n",
        "\n",
        "my_dict['key1'] = 'NEW VALUE' # reasign new value\n",
        "\n",
        "my_dict['key1']"
      ]
    },
    {
      "cell_type": "markdown",
      "metadata": {
        "id": "oAgRMdR5iUxx"
      },
      "source": [
        "They can hold any data type, lists or even other dictionaries\n",
        "\n",
        "The key itself has to be a String"
      ]
    },
    {
      "cell_type": "code",
      "execution_count": null,
      "metadata": {
        "colab": {
          "base_uri": "https://localhost:8080/",
          "height": 35
        },
        "id": "Re2ZhX5viAYz",
        "outputId": "de7a9acf-f69f-4a9c-c743-5e3994f72220"
      },
      "outputs": [
        {
          "data": {
            "application/vnd.google.colaboratory.intrinsic+json": {
              "type": "string"
            },
            "text/plain": [
              "'A'"
            ]
          },
          "execution_count": 28,
          "metadata": {},
          "output_type": "execute_result"
        }
      ],
      "source": [
        "d = {'k1':123, 'k2':[1,'a',3],'k3':{'insideKey':100}}\n",
        "\n",
        "d['k1']\n",
        "\n",
        "d['k2'][1].upper() # You pass the index inside the key value and even apply list methods\n",
        "\n",
        "d['k3']['insideKey'] # You pass the key value inside the key value"
      ]
    },
    {
      "cell_type": "markdown",
      "metadata": {
        "id": "X1dfMAx7k_fb"
      },
      "source": [
        "Usefull methods"
      ]
    },
    {
      "cell_type": "code",
      "execution_count": null,
      "metadata": {
        "colab": {
          "base_uri": "https://localhost:8080/"
        },
        "id": "X1nvjxNmlCXB",
        "outputId": "a0ead52f-0f03-402e-999b-c4c8a6b44cea"
      },
      "outputs": [
        {
          "data": {
            "text/plain": [
              "dict_items([('k1', 123), ('k2', [1, 'a', 3]), ('k3', {'insideKey': 100})])"
            ]
          },
          "execution_count": 31,
          "metadata": {},
          "output_type": "execute_result"
        }
      ],
      "source": [
        "d.keys() # Return all keys\n",
        "\n",
        "d.values() # Returns all values\n",
        "\n",
        "d.items() # Returns all the pairs in tuples"
      ]
    },
    {
      "cell_type": "markdown",
      "metadata": {
        "id": "5A09OBN_oVuu"
      },
      "source": [
        "# #0.7 - Tuples\n",
        "\n",
        "Immutable, cannot be changed or reasigned (what differs from a List)\n",
        "\n",
        "You may use basically all the same methods and rules as for a List"
      ]
    },
    {
      "cell_type": "code",
      "execution_count": null,
      "metadata": {
        "colab": {
          "base_uri": "https://localhost:8080/"
        },
        "id": "a9OXNAceobO8",
        "outputId": "9c86dd91-e6dd-4fdc-96c4-a29090d3ac84"
      },
      "outputs": [
        {
          "data": {
            "text/plain": [
              "tuple"
            ]
          },
          "execution_count": 1,
          "metadata": {},
          "output_type": "execute_result"
        }
      ],
      "source": [
        "my_tuple = (1,2,3) # Tuples use parenthesis\n",
        "\n",
        "my_list = [1,2,3] # Lists use brackets\n",
        "\n",
        "type(my_tuple) # Check the type of a variable\n",
        "\n",
        "len(my_tuple) # data lenght"
      ]
    },
    {
      "cell_type": "markdown",
      "metadata": {
        "id": "x5bdlSfMpbsE"
      },
      "source": [
        "Methods exclusive for Tuples"
      ]
    },
    {
      "cell_type": "code",
      "execution_count": null,
      "metadata": {
        "colab": {
          "base_uri": "https://localhost:8080/"
        },
        "id": "3tORWBDYpRVi",
        "outputId": "2917c2d4-f4f8-4106-ce04-09dcac7d342a"
      },
      "outputs": [
        {
          "data": {
            "text/plain": [
              "0"
            ]
          },
          "execution_count": 3,
          "metadata": {},
          "output_type": "execute_result"
        }
      ],
      "source": [
        "t = ('a','b','c')\n",
        "\n",
        "t.count('a') # counts the occurencies of a value\n",
        "\n",
        "t.index('a') # returns the first index of a value"
      ]
    },
    {
      "cell_type": "markdown",
      "metadata": {
        "id": "pM0pTluBq0Nv"
      },
      "source": [
        "# #0.8 - Sets\n",
        "\n",
        "Unordered collection of unique objects (only allow one representative of each)"
      ]
    },
    {
      "cell_type": "code",
      "execution_count": null,
      "metadata": {
        "id": "uvzBpzmtrRIQ"
      },
      "outputs": [],
      "source": [
        "my_set = set()\n",
        "\n",
        "my_set.add(1) # add objects\n",
        "\n",
        "my_set.add(1) # if you try to add an existing value, it will not be included again"
      ]
    },
    {
      "cell_type": "code",
      "execution_count": null,
      "metadata": {
        "colab": {
          "base_uri": "https://localhost:8080/"
        },
        "id": "SHnxv2worvcp",
        "outputId": "a9d443bc-585d-4bae-b55e-a1645f5f52fe"
      },
      "outputs": [
        {
          "data": {
            "text/plain": [
              "{'a', 'g', 'i', 'o', 'p'}"
            ]
          },
          "execution_count": 9,
          "metadata": {},
          "output_type": "execute_result"
        }
      ],
      "source": [
        "my_list = [1,1,1,2,2,2,3,3,3]\n",
        "\n",
        "set(my_list) # will retun a set of all unique values\n",
        "\n",
        "set('papagaio') # also works with strings"
      ]
    },
    {
      "cell_type": "markdown",
      "metadata": {
        "id": "nieGkSppwpjo"
      },
      "source": [
        "# #0.9 - Files\n",
        "\n"
      ]
    },
    {
      "cell_type": "markdown",
      "metadata": {
        "id": "XoURq7o_xjFo"
      },
      "source": [
        "This is a way to create a text file directly on the code"
      ]
    },
    {
      "cell_type": "code",
      "execution_count": null,
      "metadata": {
        "colab": {
          "base_uri": "https://localhost:8080/"
        },
        "id": "Wc_8ybouwyvM",
        "outputId": "792c7bf5-6e08-4150-bf1e-13ca1a5479ee"
      },
      "outputs": [
        {
          "name": "stdout",
          "output_type": "stream",
          "text": [
            "Overwriting myfiles.txt\n"
          ]
        }
      ],
      "source": [
        "%%writefile myfiles.txt\n",
        "Hello, this is a text files\n",
        "this is the second line"
      ]
    },
    {
      "cell_type": "code",
      "execution_count": null,
      "metadata": {
        "id": "-ihMXeMmyDT6"
      },
      "outputs": [],
      "source": [
        "# will return error for mispelling or if the directory is not the same\n",
        "# if the files do not exist, it will return an error (Errno 2)\n",
        "myfile = open('myfiles.txt') # Opens the file from the same directory as the notebook"
      ]
    },
    {
      "cell_type": "markdown",
      "metadata": {
        "id": "MEjx1V-R041W"
      },
      "source": [
        "For Python you need to use double '\\\\\\\\' so it does not misinterpret as an scape character"
      ]
    },
    {
      "cell_type": "code",
      "execution_count": null,
      "metadata": {
        "id": "jA4-0x4W08l-"
      },
      "outputs": [],
      "source": [
        "myfile = open(d:\\\\Gi\\\\Documents\\\\Udemy\\\\Complete_Python_Bootcamp\\\\Practice) # Opens the file from a specific location"
      ]
    },
    {
      "cell_type": "code",
      "execution_count": null,
      "metadata": {
        "colab": {
          "base_uri": "https://localhost:8080/",
          "height": 35
        },
        "id": "UFLCH6Fayk07",
        "outputId": "90467057-97c9-4bbe-fc50-5f9c2be30ba3"
      },
      "outputs": [
        {
          "data": {
            "application/vnd.google.colaboratory.intrinsic+json": {
              "type": "string"
            },
            "text/plain": [
              "'/content'"
            ]
          },
          "execution_count": 14,
          "metadata": {},
          "output_type": "execute_result"
        }
      ],
      "source": [
        "pwd  # returns the location of the jupyter notebook"
      ]
    },
    {
      "cell_type": "markdown",
      "metadata": {
        "id": "5PzXGkRAy_QA"
      },
      "source": [
        "Methods"
      ]
    },
    {
      "cell_type": "code",
      "execution_count": null,
      "metadata": {
        "id": "1ZSUBnV4zAUZ"
      },
      "outputs": [],
      "source": [
        "myfile.read() # will return all the content of the file in one String \n",
        "# once the files is read, the cursor stays ate the end\n",
        "\n",
        "myfile.seek(0) # resets the cursor to the begining of the file\n",
        "\n",
        "myfile.close() # Always close at the end or you will not be able to edit it\n",
        "\n",
        "# OR use the with method\n",
        "with open('myfiles.txt') as my_new_file:\n",
        "  contents = my_new_file.read()"
      ]
    },
    {
      "cell_type": "markdown",
      "metadata": {
        "id": "jWW_SsMv284s"
      },
      "source": [
        "File Modes (\"Authorizations\")\n",
        "\n",
        "* r = read\n",
        "* w = write (overwrite over files or create new)\n",
        "* a = append (add more lkines to the end)\n",
        "* r+ = reading and writing\n",
        "* w+ = writing and reading (overwrite over files or create new)\n"
      ]
    },
    {
      "cell_type": "code",
      "execution_count": null,
      "metadata": {
        "colab": {
          "base_uri": "https://localhost:8080/"
        },
        "id": "99z3iual2c-l",
        "outputId": "a680bac3-79bf-463f-d569-ab71faaed624"
      },
      "outputs": [
        {
          "name": "stdout",
          "output_type": "stream",
          "text": [
            "Hello, this is a text files\n",
            "this is the second line\n",
            "one more lineone more lineone more lineone more line\n"
          ]
        }
      ],
      "source": [
        "with open('myfiles.txt',mode='a') as f:\n",
        "  f.write('one more line')\n",
        "  \n",
        "\n",
        "with open('myfiles.txt',mode='r') as f:\n",
        "  print(f.read())\n",
        "\n",
        "# with mod 'w' if he file does not exist, it is created\n",
        "with open('new_test.txt', mode='w') as f:\n",
        "  f.write('I created this file')"
      ]
    },
    {
      "cell_type": "markdown",
      "metadata": {
        "id": "NnchyFJV6V1a"
      },
      "source": [
        "# #1.0 Math Operators\n",
        "\n",
        "\n",
        "*   '=='  equal\n",
        "*   '!='  different\n",
        "*   '>'   greater\n",
        "*   '<'   less\n",
        "*   '>='  greater than or equal\n",
        "*   '<='  less than or equal\n"
      ]
    },
    {
      "cell_type": "code",
      "execution_count": 4,
      "metadata": {
        "colab": {
          "base_uri": "https://localhost:8080/"
        },
        "id": "wa5xM05S7lZi",
        "outputId": "261d1135-dc8d-468a-957e-308f296d3cf5"
      },
      "outputs": [
        {
          "data": {
            "text/plain": [
              "True"
            ]
          },
          "execution_count": 4,
          "metadata": {},
          "output_type": "execute_result"
        }
      ],
      "source": [
        "1 == 1 # comparisons return a boolean value\n"
      ]
    },
    {
      "cell_type": "markdown",
      "metadata": {
        "id": "8aKrsNnp8UW-"
      },
      "source": [
        "Logical operators\n",
        "\n",
        "\n",
        "*   AND\n",
        "*   OR\n",
        "*   NOT"
      ]
    },
    {
      "cell_type": "code",
      "execution_count": 9,
      "metadata": {
        "colab": {
          "base_uri": "https://localhost:8080/"
        },
        "id": "yknnuiND8XJ5",
        "outputId": "2371f7bf-6454-4c53-85f7-40deca7652af"
      },
      "outputs": [
        {
          "data": {
            "text/plain": [
              "True"
            ]
          },
          "execution_count": 9,
          "metadata": {},
          "output_type": "execute_result"
        }
      ],
      "source": [
        "# AND\n",
        "1 < 2 < 1 # the 'and' condition is implicit\n",
        "1 < 2 and 2 < 3 # the condition is explicit\n",
        "\n",
        "# OR\n",
        "(1 != 2) or ('H' == 'H') # only one needs to be true\n",
        "\n",
        "# NOT\n",
        "not 4 > 5 # returns the opposite bool value"
      ]
    },
    {
      "cell_type": "markdown",
      "metadata": {
        "id": "UWbmbwg86yq2"
      },
      "source": [
        "# # Practice\n",
        "\n",
        "Basic Practice:\n",
        "\n",
        "http://codingbat.com/python\n",
        "\n",
        "More Mathematical (and Harder) Practice:\n",
        "\n",
        "https://projecteuler.net/archives\n",
        "\n",
        "List of Practice Problems:\n",
        "\n",
        "http://www.codeabbey.com/index/task_list\n",
        "\n",
        "A SubReddit Devoted to Daily Practice Problems:\n",
        "\n",
        "https://www.reddit.com/r/dailyprogrammer\n",
        "\n",
        "A very tricky website with very few hints and touch problems (Not for beginners but still interesting)\n",
        "\n",
        "http://www.pythonchallenge.com/"
      ]
    }
  ],
  "metadata": {
    "colab": {
      "provenance": []
    },
    "kernelspec": {
      "display_name": "Python 3.9.13 64-bit (microsoft store)",
      "language": "python",
      "name": "python3"
    },
    "language_info": {
      "name": "python",
      "version": "3.9.13"
    },
    "vscode": {
      "interpreter": {
        "hash": "ea6e64f2409e8d1aad035b517afa5d7288b59435ef8e27ec4a88ca9998af4977"
      }
    }
  },
  "nbformat": 4,
  "nbformat_minor": 0
}
