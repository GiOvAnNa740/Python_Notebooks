{
  "cells": [
    {
      "cell_type": "markdown",
      "metadata": {
        "id": "zZv5kG7E93JI"
      },
      "source": [
        "**Complete Python Bootcamp - #2.0 - Statements**\n",
        "---"
      ]
    },
    {
      "cell_type": "markdown",
      "metadata": {
        "id": "trwmF8sx-Ru6"
      },
      "source": [
        " #2.1 - If, Elif and Else\n",
        "---"
      ]
    },
    {
      "cell_type": "code",
      "execution_count": null,
      "metadata": {
        "id": "TxaKctzirK-B"
      },
      "outputs": [],
      "source": [
        "if some_condition:\n",
        "  #execute some code\n",
        "else:\n",
        "  #do something else"
      ]
    },
    {
      "cell_type": "code",
      "execution_count": null,
      "metadata": {
        "colab": {
          "base_uri": "https://localhost:8080/"
        },
        "id": "GhI1XqOM-yCm",
        "outputId": "1a0cf3f8-46f6-40c2-973d-12bce0685979"
      },
      "outputs": [
        {
          "name": "stdout",
          "output_type": "stream",
          "text": [
            "Feed me!\n"
          ]
        }
      ],
      "source": [
        "hungry = True\n",
        "\n",
        "if hungry: # it's implicit that the statement verifies if it's true\n",
        "  print('Feed me!')\n",
        "else:\n",
        "  print(\"I'm not hungry\")"
      ]
    },
    {
      "cell_type": "code",
      "execution_count": null,
      "metadata": {},
      "outputs": [],
      "source": []
    }
  ],
  "metadata": {
    "colab": {
      "provenance": []
    },
    "kernelspec": {
      "display_name": "Python 3.9.13 64-bit (microsoft store)",
      "language": "python",
      "name": "python3"
    },
    "language_info": {
      "name": "python",
      "version": "3.9.13"
    },
    "vscode": {
      "interpreter": {
        "hash": "ea6e64f2409e8d1aad035b517afa5d7288b59435ef8e27ec4a88ca9998af4977"
      }
    }
  },
  "nbformat": 4,
  "nbformat_minor": 0
}
